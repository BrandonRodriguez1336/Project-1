{
 "cells": [
  {
   "cell_type": "markdown",
   "metadata": {
    "slideshow": {
     "slide_type": "-"
    }
   },
   "source": [
    "# Access to Dental Care in California"
   ]
  },
  {
   "cell_type": "markdown",
   "metadata": {
    "slideshow": {
     "slide_type": "-"
    }
   },
   "source": [
    "# Do Californian's in a certain poverty rate or a particular income per capita group have better or worse access to a dentist than another group?"
   ]
  },
  {
   "cell_type": "code",
   "execution_count": 42,
   "metadata": {},
   "outputs": [],
   "source": [
    "# Dependencies and Setup\n",
    "%matplotlib inline\n",
    "import matplotlib.pyplot as plt\n",
    "import pandas as pd\n",
    "import numpy as np\n",
    "\n",
    "# Hide warning messages in notebook\n",
    "import warnings\n",
    "warnings.filterwarnings('ignore')\n",
    "\n",
    "# File to Load (Remember to Change These)\n",
    "census_data_to_load = \"C:/Users/ca25935/Desktop/UCD Data Analytics/Homework/Project #1/Project-1/Data/project data/census_data_ca.csv\"\n",
    "dental_providers_to_load = \"C:/Users/ca25935/Desktop/UCD Data Analytics/Homework/Project #1/Project-1/Data/project data/dental_provider_network_ca.csv\"\n",
    "zipcode_distance_time_to_providers_to_load = \"C:/Users/ca25935/Desktop/UCD Data Analytics/Homework/Project #1/Project-1/Data/project data/zipcode_distance_time_to_providers.csv\"\n",
    "\n",
    "# Read the census, dental providers, and zipcode distance time data\n",
    "\n",
    "census_data = pd.read_csv(census_data_to_load)\n",
    "dent_prov_data = pd.read_csv(dental_providers_to_load)\n",
    "zip_time_dist = pd.read_csv(zipcode_distance_time_to_providers_to_load)\n"
   ]
  },
  {
   "cell_type": "markdown",
   "metadata": {
    "slideshow": {
     "slide_type": "-"
    }
   },
   "source": [
    "# I started by looking at 2017 census data and a dental provider listing. I GEO coded both files and performed measurements in distance (miles) and time (minutes) using software and exported the results into CSV files for analysis."
   ]
  },
  {
   "cell_type": "code",
   "execution_count": 43,
   "metadata": {
    "slideshow": {
     "slide_type": "-"
    }
   },
   "outputs": [
    {
     "data": {
      "text/html": [
       "<div>\n",
       "<style scoped>\n",
       "    .dataframe tbody tr th:only-of-type {\n",
       "        vertical-align: middle;\n",
       "    }\n",
       "\n",
       "    .dataframe tbody tr th {\n",
       "        vertical-align: top;\n",
       "    }\n",
       "\n",
       "    .dataframe thead th {\n",
       "        text-align: right;\n",
       "    }\n",
       "</style>\n",
       "<table border=\"1\" class=\"dataframe\">\n",
       "  <thead>\n",
       "    <tr style=\"text-align: right;\">\n",
       "      <th></th>\n",
       "      <th>Zipcode</th>\n",
       "      <th>Population</th>\n",
       "      <th>Median Age</th>\n",
       "      <th>Household Income</th>\n",
       "      <th>Per Capita Income</th>\n",
       "      <th>Poverty Count</th>\n",
       "      <th>Poverty Rate</th>\n",
       "      <th>State</th>\n",
       "      <th>ZipClass</th>\n",
       "    </tr>\n",
       "  </thead>\n",
       "  <tbody>\n",
       "    <tr>\n",
       "      <th>0</th>\n",
       "      <td>90001</td>\n",
       "      <td>58738.0</td>\n",
       "      <td>28.7</td>\n",
       "      <td>35660.0</td>\n",
       "      <td>11882.0</td>\n",
       "      <td>18654.0</td>\n",
       "      <td>31.75</td>\n",
       "      <td>CA</td>\n",
       "      <td>Urban</td>\n",
       "    </tr>\n",
       "    <tr>\n",
       "      <th>1</th>\n",
       "      <td>90002</td>\n",
       "      <td>52856.0</td>\n",
       "      <td>27.7</td>\n",
       "      <td>34000.0</td>\n",
       "      <td>11807.0</td>\n",
       "      <td>17795.0</td>\n",
       "      <td>33.66</td>\n",
       "      <td>CA</td>\n",
       "      <td>Urban</td>\n",
       "    </tr>\n",
       "    <tr>\n",
       "      <th>2</th>\n",
       "      <td>90003</td>\n",
       "      <td>70490.0</td>\n",
       "      <td>28.2</td>\n",
       "      <td>34397.0</td>\n",
       "      <td>11305.0</td>\n",
       "      <td>23212.0</td>\n",
       "      <td>32.92</td>\n",
       "      <td>CA</td>\n",
       "      <td>Urban</td>\n",
       "    </tr>\n",
       "    <tr>\n",
       "      <th>3</th>\n",
       "      <td>90004</td>\n",
       "      <td>62733.0</td>\n",
       "      <td>35.1</td>\n",
       "      <td>46581.0</td>\n",
       "      <td>30590.0</td>\n",
       "      <td>11985.0</td>\n",
       "      <td>19.10</td>\n",
       "      <td>CA</td>\n",
       "      <td>Urban</td>\n",
       "    </tr>\n",
       "    <tr>\n",
       "      <th>4</th>\n",
       "      <td>90005</td>\n",
       "      <td>39562.0</td>\n",
       "      <td>35.4</td>\n",
       "      <td>32461.0</td>\n",
       "      <td>21566.0</td>\n",
       "      <td>11300.0</td>\n",
       "      <td>28.56</td>\n",
       "      <td>CA</td>\n",
       "      <td>Urban</td>\n",
       "    </tr>\n",
       "    <tr>\n",
       "      <th>...</th>\n",
       "      <td>...</td>\n",
       "      <td>...</td>\n",
       "      <td>...</td>\n",
       "      <td>...</td>\n",
       "      <td>...</td>\n",
       "      <td>...</td>\n",
       "      <td>...</td>\n",
       "      <td>...</td>\n",
       "      <td>...</td>\n",
       "    </tr>\n",
       "    <tr>\n",
       "      <th>1757</th>\n",
       "      <td>96145</td>\n",
       "      <td>2406.0</td>\n",
       "      <td>48.0</td>\n",
       "      <td>71576.0</td>\n",
       "      <td>41156.0</td>\n",
       "      <td>355.0</td>\n",
       "      <td>14.75</td>\n",
       "      <td>CA</td>\n",
       "      <td>Rural</td>\n",
       "    </tr>\n",
       "    <tr>\n",
       "      <th>1758</th>\n",
       "      <td>96146</td>\n",
       "      <td>1030.0</td>\n",
       "      <td>46.3</td>\n",
       "      <td>73105.0</td>\n",
       "      <td>56645.0</td>\n",
       "      <td>50.0</td>\n",
       "      <td>4.85</td>\n",
       "      <td>CA</td>\n",
       "      <td>Rural</td>\n",
       "    </tr>\n",
       "    <tr>\n",
       "      <th>1759</th>\n",
       "      <td>96148</td>\n",
       "      <td>853.0</td>\n",
       "      <td>31.1</td>\n",
       "      <td>70833.0</td>\n",
       "      <td>25244.0</td>\n",
       "      <td>93.0</td>\n",
       "      <td>10.90</td>\n",
       "      <td>CA</td>\n",
       "      <td>Rural</td>\n",
       "    </tr>\n",
       "    <tr>\n",
       "      <th>1760</th>\n",
       "      <td>96150</td>\n",
       "      <td>29103.0</td>\n",
       "      <td>39.8</td>\n",
       "      <td>53060.0</td>\n",
       "      <td>31222.0</td>\n",
       "      <td>3851.0</td>\n",
       "      <td>13.23</td>\n",
       "      <td>CA</td>\n",
       "      <td>Rural</td>\n",
       "    </tr>\n",
       "    <tr>\n",
       "      <th>1762</th>\n",
       "      <td>96161</td>\n",
       "      <td>18369.0</td>\n",
       "      <td>41.7</td>\n",
       "      <td>89091.0</td>\n",
       "      <td>48383.0</td>\n",
       "      <td>1248.0</td>\n",
       "      <td>6.79</td>\n",
       "      <td>CA</td>\n",
       "      <td>Rural</td>\n",
       "    </tr>\n",
       "  </tbody>\n",
       "</table>\n",
       "<p>1740 rows × 9 columns</p>\n",
       "</div>"
      ],
      "text/plain": [
       "      Zipcode  Population  Median Age  Household Income  Per Capita Income  \\\n",
       "0       90001     58738.0        28.7           35660.0            11882.0   \n",
       "1       90002     52856.0        27.7           34000.0            11807.0   \n",
       "2       90003     70490.0        28.2           34397.0            11305.0   \n",
       "3       90004     62733.0        35.1           46581.0            30590.0   \n",
       "4       90005     39562.0        35.4           32461.0            21566.0   \n",
       "...       ...         ...         ...               ...                ...   \n",
       "1757    96145      2406.0        48.0           71576.0            41156.0   \n",
       "1758    96146      1030.0        46.3           73105.0            56645.0   \n",
       "1759    96148       853.0        31.1           70833.0            25244.0   \n",
       "1760    96150     29103.0        39.8           53060.0            31222.0   \n",
       "1762    96161     18369.0        41.7           89091.0            48383.0   \n",
       "\n",
       "      Poverty Count  Poverty Rate State ZipClass  \n",
       "0           18654.0         31.75    CA    Urban  \n",
       "1           17795.0         33.66    CA    Urban  \n",
       "2           23212.0         32.92    CA    Urban  \n",
       "3           11985.0         19.10    CA    Urban  \n",
       "4           11300.0         28.56    CA    Urban  \n",
       "...             ...           ...   ...      ...  \n",
       "1757          355.0         14.75    CA    Rural  \n",
       "1758           50.0          4.85    CA    Rural  \n",
       "1759           93.0         10.90    CA    Rural  \n",
       "1760         3851.0         13.23    CA    Rural  \n",
       "1762         1248.0          6.79    CA    Rural  \n",
       "\n",
       "[1740 rows x 9 columns]"
      ]
     },
     "execution_count": 43,
     "metadata": {},
     "output_type": "execute_result"
    }
   ],
   "source": [
    "census_data = census_data[['Zipcode', 'Population', 'Median Age', 'Household Income',\n",
    "       'Per Capita Income', 'Poverty Count', 'Poverty Rate', 'State',\n",
    "       'ZipClass']]\n",
    "\n",
    "#remove zips with zero population\n",
    "census_data = census_data.loc[census_data['Population']>0,:]\n",
    "census_data"
   ]
  },
  {
   "cell_type": "markdown",
   "metadata": {
    "slideshow": {
     "slide_type": "-"
    }
   },
   "source": [
    "# During my data exploration and clean up process I removed records with a population of zero and all null values (NaNs)."
   ]
  },
  {
   "cell_type": "markdown",
   "metadata": {
    "slideshow": {
     "slide_type": "-"
    }
   },
   "source": [
    "# First I took a look at the poverty rate distribution by zip code population. It appears that the zip codes with the least amount of population have the highest rates of poverty based on the census data."
   ]
  },
  {
   "cell_type": "code",
   "execution_count": 44,
   "metadata": {},
   "outputs": [],
   "source": [
    "cen_x_axis = census_data['Population']\n",
    "cen_data = census_data['Poverty Rate']"
   ]
  },
  {
   "cell_type": "code",
   "execution_count": 45,
   "metadata": {
    "slideshow": {
     "slide_type": "-"
    }
   },
   "outputs": [
    {
     "data": {
      "text/plain": [
       "Text(0.5, 1.0, 'California Poverty Rate Distribution by Zip Population')"
      ]
     },
     "execution_count": 45,
     "metadata": {},
     "output_type": "execute_result"
    },
    {
     "data": {
      "image/png": "[encoded data removed]",
      "text/plain": [
       "<Figure size 432x288 with 1 Axes>"
      ]
     },
     "metadata": {
      "needs_background": "light"
     },
     "output_type": "display_data"
    }
   ],
   "source": [
    "plt.scatter(cen_x_axis, cen_data, color=\"g\", edgecolors=\"black\")\n",
    "plt.title('California Poverty Rate Distribution by Zip Population')"
   ]
  },
  {
   "cell_type": "code",
   "execution_count": 46,
   "metadata": {
    "slideshow": {
     "slide_type": "-"
    }
   },
   "outputs": [
    {
     "data": {
      "text/html": [
       "<div>\n",
       "<style scoped>\n",
       "    .dataframe tbody tr th:only-of-type {\n",
       "        vertical-align: middle;\n",
       "    }\n",
       "\n",
       "    .dataframe tbody tr th {\n",
       "        vertical-align: top;\n",
       "    }\n",
       "\n",
       "    .dataframe thead th {\n",
       "        text-align: right;\n",
       "    }\n",
       "</style>\n",
       "<table border=\"1\" class=\"dataframe\">\n",
       "  <thead>\n",
       "    <tr style=\"text-align: right;\">\n",
       "      <th></th>\n",
       "      <th>ZipClass</th>\n",
       "      <th>Total Zips</th>\n",
       "    </tr>\n",
       "  </thead>\n",
       "  <tbody>\n",
       "    <tr>\n",
       "      <th>0</th>\n",
       "      <td>Frontier</td>\n",
       "      <td>178</td>\n",
       "    </tr>\n",
       "    <tr>\n",
       "      <th>1</th>\n",
       "      <td>Rural</td>\n",
       "      <td>753</td>\n",
       "    </tr>\n",
       "    <tr>\n",
       "      <th>2</th>\n",
       "      <td>Suburban</td>\n",
       "      <td>216</td>\n",
       "    </tr>\n",
       "    <tr>\n",
       "      <th>3</th>\n",
       "      <td>Urban</td>\n",
       "      <td>593</td>\n",
       "    </tr>\n",
       "  </tbody>\n",
       "</table>\n",
       "</div>"
      ],
      "text/plain": [
       "   ZipClass  Total Zips\n",
       "0  Frontier         178\n",
       "1     Rural         753\n",
       "2  Suburban         216\n",
       "3     Urban         593"
      ]
     },
     "execution_count": 46,
     "metadata": {},
     "output_type": "execute_result"
    }
   ],
   "source": [
    "grouped_Zipclass_census_data = census_data[['Zipcode','ZipClass']].groupby(['ZipClass']).count()\n",
    "grouped_Zipclass_census_data = grouped_Zipclass_census_data.rename(columns={'Zipcode':'Total Zips'})\n",
    "grouped_Zipclass_census_data.reset_index().head()\n",
    "#distribution of zip codes accross the dataset"
   ]
  },
  {
   "cell_type": "code",
   "execution_count": 47,
   "metadata": {
    "slideshow": {
     "slide_type": "-"
    }
   },
   "outputs": [
    {
     "data": {
      "text/html": [
       "<div>\n",
       "<style scoped>\n",
       "    .dataframe tbody tr th:only-of-type {\n",
       "        vertical-align: middle;\n",
       "    }\n",
       "\n",
       "    .dataframe tbody tr th {\n",
       "        vertical-align: top;\n",
       "    }\n",
       "\n",
       "    .dataframe thead th {\n",
       "        text-align: right;\n",
       "    }\n",
       "</style>\n",
       "<table border=\"1\" class=\"dataframe\">\n",
       "  <thead>\n",
       "    <tr style=\"text-align: right;\">\n",
       "      <th></th>\n",
       "      <th>Poverty Ranges</th>\n",
       "      <th>ZipClass</th>\n",
       "      <th>Distance</th>\n",
       "      <th>Time</th>\n",
       "    </tr>\n",
       "  </thead>\n",
       "  <tbody>\n",
       "    <tr>\n",
       "      <th>0</th>\n",
       "      <td>&lt;10%</td>\n",
       "      <td>Frontier</td>\n",
       "      <td>18.093103</td>\n",
       "      <td>19.720690</td>\n",
       "    </tr>\n",
       "    <tr>\n",
       "      <th>4</th>\n",
       "      <td>10%-20%</td>\n",
       "      <td>Frontier</td>\n",
       "      <td>16.437500</td>\n",
       "      <td>17.912500</td>\n",
       "    </tr>\n",
       "    <tr>\n",
       "      <th>8</th>\n",
       "      <td>20%-50%</td>\n",
       "      <td>Frontier</td>\n",
       "      <td>18.901563</td>\n",
       "      <td>20.603125</td>\n",
       "    </tr>\n",
       "    <tr>\n",
       "      <th>12</th>\n",
       "      <td>50%-95%</td>\n",
       "      <td>Frontier</td>\n",
       "      <td>19.111111</td>\n",
       "      <td>20.811111</td>\n",
       "    </tr>\n",
       "  </tbody>\n",
       "</table>\n",
       "</div>"
      ],
      "text/plain": [
       "   Poverty Ranges  ZipClass   Distance       Time\n",
       "0            <10%  Frontier  18.093103  19.720690\n",
       "4         10%-20%  Frontier  16.437500  17.912500\n",
       "8         20%-50%  Frontier  18.901563  20.603125\n",
       "12        50%-95%  Frontier  19.111111  20.811111"
      ]
     },
     "execution_count": 47,
     "metadata": {},
     "output_type": "execute_result"
    }
   ],
   "source": [
    "#Remove zero populations and NaNs\n",
    "#Create bins based on poverty rate to complete an analysis for zip classifications\n",
    "# Urban, Suburban, Rural, Frontier\n",
    "zip_time_dist = zip_time_dist.loc[zip_time_dist['Population']>0,:]\n",
    "zip_time_dist.columns\n",
    "zip_time_dist = zip_time_dist[['ID', 'RowID', 'Zipcode', 'Population', 'Median Age',\n",
    "       'Household Income', 'Per Capita Income', 'Poverty Count',\n",
    "       'Poverty Rate', 'State', 'ZipClass', 'Latitude', 'Longitude', 'Rank',\n",
    "       'Distance', 'Time']]\n",
    "# zip_time_dist\n",
    "zip_bins = [0,10,20,50,95]\n",
    "group_names = ['<10%','10%-20%','20%-50%','50%-95%']\n",
    "\n",
    "zip_time_dist['Poverty Ranges'] = pd.cut(zip_time_dist['Poverty Rate'], zip_bins, labels=group_names)\n",
    "zip_time_dist.head(30)\n",
    "\n",
    "zip_time_dist_mean = zip_time_dist[['Poverty Ranges','ZipClass','Distance', 'Time']]\n",
    "\n",
    "zip_time_dist_mean = zip_time_dist_mean.groupby(['Poverty Ranges','ZipClass']).mean()\n",
    "\n",
    "zip_time_dist_mean = zip_time_dist_mean.dropna().reset_index().sort_values('ZipClass')\n",
    "\n",
    "#focus on frontier zips\n",
    "zip_time_dist_mean_f = zip_time_dist_mean.loc[zip_time_dist_mean['ZipClass']=='Frontier',:]\n",
    "zip_time_dist_mean_f\n"
   ]
  },
  {
   "cell_type": "code",
   "execution_count": 48,
   "metadata": {
    "slideshow": {
     "slide_type": "-"
    }
   },
   "outputs": [
    {
     "data": {
      "text/html": [
       "<div>\n",
       "<style scoped>\n",
       "    .dataframe tbody tr th:only-of-type {\n",
       "        vertical-align: middle;\n",
       "    }\n",
       "\n",
       "    .dataframe tbody tr th {\n",
       "        vertical-align: top;\n",
       "    }\n",
       "\n",
       "    .dataframe thead th {\n",
       "        text-align: right;\n",
       "    }\n",
       "</style>\n",
       "<table border=\"1\" class=\"dataframe\">\n",
       "  <thead>\n",
       "    <tr style=\"text-align: right;\">\n",
       "      <th></th>\n",
       "      <th>Poverty Ranges</th>\n",
       "      <th>ZipClass</th>\n",
       "      <th>Distance</th>\n",
       "      <th>Time</th>\n",
       "    </tr>\n",
       "  </thead>\n",
       "  <tbody>\n",
       "    <tr>\n",
       "      <th>1</th>\n",
       "      <td>&lt;10%</td>\n",
       "      <td>Rural</td>\n",
       "      <td>4.396639</td>\n",
       "      <td>4.846639</td>\n",
       "    </tr>\n",
       "    <tr>\n",
       "      <th>5</th>\n",
       "      <td>10%-20%</td>\n",
       "      <td>Rural</td>\n",
       "      <td>5.285603</td>\n",
       "      <td>5.811284</td>\n",
       "    </tr>\n",
       "    <tr>\n",
       "      <th>9</th>\n",
       "      <td>20%-50%</td>\n",
       "      <td>Rural</td>\n",
       "      <td>5.585915</td>\n",
       "      <td>6.090141</td>\n",
       "    </tr>\n",
       "    <tr>\n",
       "      <th>13</th>\n",
       "      <td>50%-95%</td>\n",
       "      <td>Rural</td>\n",
       "      <td>3.620000</td>\n",
       "      <td>4.030000</td>\n",
       "    </tr>\n",
       "  </tbody>\n",
       "</table>\n",
       "</div>"
      ],
      "text/plain": [
       "   Poverty Ranges ZipClass  Distance      Time\n",
       "1            <10%    Rural  4.396639  4.846639\n",
       "5         10%-20%    Rural  5.285603  5.811284\n",
       "9         20%-50%    Rural  5.585915  6.090141\n",
       "13        50%-95%    Rural  3.620000  4.030000"
      ]
     },
     "execution_count": 48,
     "metadata": {},
     "output_type": "execute_result"
    }
   ],
   "source": [
    "#focus on rural zips\n",
    "zip_time_dist_mean_r = zip_time_dist_mean.loc[zip_time_dist_mean['ZipClass']=='Rural',:]\n",
    "zip_time_dist_mean_r"
   ]
  },
  {
   "cell_type": "markdown",
   "metadata": {
    "slideshow": {
     "slide_type": "-"
    }
   },
   "source": [
    "# Next I created bins for poverty ranges based on poverty rate and plotted the results. In reviewing the results there doesn't appear to be worse or better access to a dentist based on the poverty rates."
   ]
  },
  {
   "cell_type": "code",
   "execution_count": 49,
   "metadata": {
    "slideshow": {
     "slide_type": "-"
    }
   },
   "outputs": [
    {
     "data": {
      "image/png": "[encoded data removed]",
      "text/plain": [
       "<Figure size 432x288 with 2 Axes>"
      ]
     },
     "metadata": {
      "needs_background": "light"
     },
     "output_type": "display_data"
    }
   ],
   "source": [
    "# Poverty ranges bin plots\n",
    "\n",
    "\n",
    "\n",
    "fig, ax = plt.subplots(2,1, sharex=True)\n",
    "fig.suptitle('Zip Classes')\n",
    "#frontier per poverty range\n",
    "data = zip_time_dist_mean_f['Distance']\n",
    "x_axis = np.arange(len(data))\n",
    "\n",
    "#rural per poverty range\n",
    "data1 = zip_time_dist_mean_r['Distance']\n",
    "x_axis1 = np.arange(len(data))\n",
    "\n",
    "width = 8\n",
    "#urban zips per capita ranges\n",
    "ax[0].bar( x_axis, data, color='green', align='edge', width=0.3)\n",
    "\n",
    "#suburban zips per capita ranges\n",
    "ax[1].bar( x_axis1, data1, color='blue', align='edge', width=0.3)\n",
    "\n",
    "\n",
    "ax[0].set_ylabel('Distance (miles)')\n",
    "ax[0].set_title('Frontier Zips Poverty Ranges')\n",
    "ax[0].set_xticks(x_axis)\n",
    "ax[0].set_xticklabels(zip_time_dist_mean_f['Poverty Ranges'])\n",
    "ax[0].set_autoscaley_on(True)\n",
    "ax[0].grid(True)\n",
    "\n",
    "ax[1].set_ylabel('Distance (miles)')\n",
    "ax[1].set_title('Rural Zips Poverty Ranges')\n",
    "ax[1].set_xticks(x_axis)\n",
    "ax[1].set_xticklabels(zip_time_dist_mean_r['Poverty Ranges'])\n",
    "ax[1].set_autoscaley_on(True)\n",
    "ax[1].grid(True)\n",
    "\n"
   ]
  },
  {
   "cell_type": "code",
   "execution_count": 50,
   "metadata": {
    "slideshow": {
     "slide_type": "-"
    }
   },
   "outputs": [
    {
     "data": {
      "text/html": [
       "<div>\n",
       "<style scoped>\n",
       "    .dataframe tbody tr th:only-of-type {\n",
       "        vertical-align: middle;\n",
       "    }\n",
       "\n",
       "    .dataframe tbody tr th {\n",
       "        vertical-align: top;\n",
       "    }\n",
       "\n",
       "    .dataframe thead th {\n",
       "        text-align: right;\n",
       "    }\n",
       "</style>\n",
       "<table border=\"1\" class=\"dataframe\">\n",
       "  <thead>\n",
       "    <tr style=\"text-align: right;\">\n",
       "      <th></th>\n",
       "      <th>Poverty Ranges</th>\n",
       "      <th>ZipClass</th>\n",
       "      <th>Distance</th>\n",
       "      <th>Time</th>\n",
       "    </tr>\n",
       "  </thead>\n",
       "  <tbody>\n",
       "    <tr>\n",
       "      <th>2</th>\n",
       "      <td>&lt;10%</td>\n",
       "      <td>Suburban</td>\n",
       "      <td>0.760800</td>\n",
       "      <td>0.978400</td>\n",
       "    </tr>\n",
       "    <tr>\n",
       "      <th>6</th>\n",
       "      <td>10%-20%</td>\n",
       "      <td>Suburban</td>\n",
       "      <td>0.876471</td>\n",
       "      <td>1.142647</td>\n",
       "    </tr>\n",
       "    <tr>\n",
       "      <th>10</th>\n",
       "      <td>20%-50%</td>\n",
       "      <td>Suburban</td>\n",
       "      <td>0.945000</td>\n",
       "      <td>1.195000</td>\n",
       "    </tr>\n",
       "  </tbody>\n",
       "</table>\n",
       "</div>"
      ],
      "text/plain": [
       "   Poverty Ranges  ZipClass  Distance      Time\n",
       "2            <10%  Suburban  0.760800  0.978400\n",
       "6         10%-20%  Suburban  0.876471  1.142647\n",
       "10        20%-50%  Suburban  0.945000  1.195000"
      ]
     },
     "execution_count": 50,
     "metadata": {},
     "output_type": "execute_result"
    }
   ],
   "source": [
    "#focus on suburban zips\n",
    "zip_time_dist_mean_s = zip_time_dist_mean.loc[zip_time_dist_mean['ZipClass']=='Suburban',:]\n",
    "zip_time_dist_mean_s"
   ]
  },
  {
   "cell_type": "code",
   "execution_count": 51,
   "metadata": {},
   "outputs": [
    {
     "data": {
      "text/html": [
       "<div>\n",
       "<style scoped>\n",
       "    .dataframe tbody tr th:only-of-type {\n",
       "        vertical-align: middle;\n",
       "    }\n",
       "\n",
       "    .dataframe tbody tr th {\n",
       "        vertical-align: top;\n",
       "    }\n",
       "\n",
       "    .dataframe thead th {\n",
       "        text-align: right;\n",
       "    }\n",
       "</style>\n",
       "<table border=\"1\" class=\"dataframe\">\n",
       "  <thead>\n",
       "    <tr style=\"text-align: right;\">\n",
       "      <th></th>\n",
       "      <th>Poverty Ranges</th>\n",
       "      <th>ZipClass</th>\n",
       "      <th>Distance</th>\n",
       "      <th>Time</th>\n",
       "    </tr>\n",
       "  </thead>\n",
       "  <tbody>\n",
       "    <tr>\n",
       "      <th>3</th>\n",
       "      <td>&lt;10%</td>\n",
       "      <td>Urban</td>\n",
       "      <td>0.482234</td>\n",
       "      <td>0.937056</td>\n",
       "    </tr>\n",
       "    <tr>\n",
       "      <th>7</th>\n",
       "      <td>10%-20%</td>\n",
       "      <td>Urban</td>\n",
       "      <td>0.432917</td>\n",
       "      <td>0.842083</td>\n",
       "    </tr>\n",
       "    <tr>\n",
       "      <th>11</th>\n",
       "      <td>20%-50%</td>\n",
       "      <td>Urban</td>\n",
       "      <td>0.454795</td>\n",
       "      <td>0.888356</td>\n",
       "    </tr>\n",
       "  </tbody>\n",
       "</table>\n",
       "</div>"
      ],
      "text/plain": [
       "   Poverty Ranges ZipClass  Distance      Time\n",
       "3            <10%    Urban  0.482234  0.937056\n",
       "7         10%-20%    Urban  0.432917  0.842083\n",
       "11        20%-50%    Urban  0.454795  0.888356"
      ]
     },
     "execution_count": 51,
     "metadata": {},
     "output_type": "execute_result"
    }
   ],
   "source": [
    "#focus on urban zips\n",
    "zip_time_dist_mean_u = zip_time_dist_mean.loc[zip_time_dist_mean['ZipClass']=='Urban',:]\n",
    "zip_time_dist_mean_u = zip_time_dist_mean_u[0:3]\n",
    "zip_time_dist_mean_u"
   ]
  },
  {
   "cell_type": "code",
   "execution_count": 52,
   "metadata": {
    "slideshow": {
     "slide_type": "-"
    }
   },
   "outputs": [
    {
     "data": {
      "image/png": "[encoded data removed]",
      "text/plain": [
       "<Figure size 432x288 with 2 Axes>"
      ]
     },
     "metadata": {
      "needs_background": "light"
     },
     "output_type": "display_data"
    }
   ],
   "source": [
    "\n",
    "fig, ax = plt.subplots(2,1, sharex=True)\n",
    "fig.suptitle('Zip Classes')\n",
    "#urban per poverty range\n",
    "data = zip_time_dist_mean_u['Distance']\n",
    "x_axis = np.arange(len(data))\n",
    "\n",
    "#suburban per poverty range\n",
    "data1 = zip_time_dist_mean_s['Distance']\n",
    "x_axis1 = np.arange(len(data))\n",
    "\n",
    "\n",
    "width = 8\n",
    "#urban zips per capita ranges\n",
    "ax[0].bar( x_axis, data, color='purple', align='edge', width=0.3)\n",
    "\n",
    "#suburban zips per capita ranges\n",
    "ax[1].bar( x_axis1, data1, color='orange', align='edge', width=0.3)\n",
    "\n",
    "\n",
    "ax[0].set_ylabel('Distance (miles)')\n",
    "ax[0].set_title('Urban Zips Poverty Ranges')\n",
    "ax[0].set_xticks(x_axis)\n",
    "ax[0].set_xticklabels(zip_time_dist_mean_u['Poverty Ranges'])\n",
    "ax[0].set_autoscaley_on(True)\n",
    "ax[0].grid(True)\n",
    "\n",
    "ax[1].set_ylabel('Distance (miles)')\n",
    "ax[1].set_title('Suburban Zips Poverty Ranges')\n",
    "ax[1].set_xticks(x_axis)\n",
    "ax[1].set_xticklabels(zip_time_dist_mean_s['Poverty Ranges'])\n",
    "ax[1].set_autoscaley_on(True)\n",
    "ax[1].grid(True)\n"
   ]
  },
  {
   "cell_type": "code",
   "execution_count": 53,
   "metadata": {},
   "outputs": [
    {
     "data": {
      "text/html": [
       "<div>\n",
       "<style scoped>\n",
       "    .dataframe tbody tr th:only-of-type {\n",
       "        vertical-align: middle;\n",
       "    }\n",
       "\n",
       "    .dataframe tbody tr th {\n",
       "        vertical-align: top;\n",
       "    }\n",
       "\n",
       "    .dataframe thead th {\n",
       "        text-align: right;\n",
       "    }\n",
       "</style>\n",
       "<table border=\"1\" class=\"dataframe\">\n",
       "  <thead>\n",
       "    <tr style=\"text-align: right;\">\n",
       "      <th></th>\n",
       "      <th>Per Capita Income Ranges</th>\n",
       "      <th>ZipClass</th>\n",
       "      <th>Distance</th>\n",
       "      <th>Time</th>\n",
       "    </tr>\n",
       "  </thead>\n",
       "  <tbody>\n",
       "    <tr>\n",
       "      <th>0</th>\n",
       "      <td>&lt;$20000</td>\n",
       "      <td>Frontier</td>\n",
       "      <td>22.880952</td>\n",
       "      <td>24.919048</td>\n",
       "    </tr>\n",
       "    <tr>\n",
       "      <th>4</th>\n",
       "      <td>$20001-50000</td>\n",
       "      <td>Frontier</td>\n",
       "      <td>16.803448</td>\n",
       "      <td>18.325000</td>\n",
       "    </tr>\n",
       "    <tr>\n",
       "      <th>8</th>\n",
       "      <td>$50001-100000</td>\n",
       "      <td>Frontier</td>\n",
       "      <td>8.450000</td>\n",
       "      <td>9.150000</td>\n",
       "    </tr>\n",
       "    <tr>\n",
       "      <th>12</th>\n",
       "      <td>$100001-120000</td>\n",
       "      <td>Frontier</td>\n",
       "      <td>11.300000</td>\n",
       "      <td>12.300000</td>\n",
       "    </tr>\n",
       "  </tbody>\n",
       "</table>\n",
       "</div>"
      ],
      "text/plain": [
       "   Per Capita Income Ranges  ZipClass   Distance       Time\n",
       "0                   <$20000  Frontier  22.880952  24.919048\n",
       "4              $20001-50000  Frontier  16.803448  18.325000\n",
       "8             $50001-100000  Frontier   8.450000   9.150000\n",
       "12           $100001-120000  Frontier  11.300000  12.300000"
      ]
     },
     "execution_count": 53,
     "metadata": {},
     "output_type": "execute_result"
    }
   ],
   "source": [
    "#### Remove zero populations and NaNs\n",
    "#Create bins based on Per Capita Income to complete an analysis for zip classifications\n",
    "# Urban, Suburban, Rural, Frontier\n",
    "IPC_zip_time_dist = zip_time_dist.loc[zip_time_dist['Population']>0,:]\n",
    "IPC_zip_time_dist.columns\n",
    "IPC_zip_time_dist = IPC_zip_time_dist[['ID', 'RowID', 'Zipcode', 'Population', 'Median Age',\n",
    "       'Household Income', 'Per Capita Income', 'Poverty Count',\n",
    "       'Poverty Rate', 'State', 'ZipClass', 'Latitude', 'Longitude', 'Rank',\n",
    "       'Distance', 'Time']]\n",
    "# zip_time_dist\n",
    "IPC_zip_bins = [0,20000,50000,100000,120000]\n",
    "IPC_group_names = [\"<$20000\",\"$20001-50000\",\"$50001-100000\",\"$100001-120000\"]\n",
    "\n",
    "IPC_zip_time_dist['Per Capita Income Ranges'] = pd.cut(IPC_zip_time_dist['Per Capita Income'], IPC_zip_bins, labels=IPC_group_names)\n",
    "IPC_zip_time_dist.head()\n",
    "\n",
    "IPC_zip_time_dist_mean = IPC_zip_time_dist[['Per Capita Income Ranges','ZipClass','Distance', 'Time']]\n",
    "\n",
    "IPC_zip_time_dist_mean = IPC_zip_time_dist_mean.groupby(['Per Capita Income Ranges','ZipClass']).mean()\n",
    "\n",
    "IPC_zip_time_dist_mean = IPC_zip_time_dist_mean.dropna().reset_index().sort_values('ZipClass')\n",
    "IPC_zip_time_dist_mean\n",
    "#focus on frontier zips\n",
    "IPC_zip_time_dist_mean_f = IPC_zip_time_dist_mean.loc[IPC_zip_time_dist_mean['ZipClass']=='Frontier',:]\n",
    "IPC_zip_time_dist_mean_f\n"
   ]
  },
  {
   "cell_type": "code",
   "execution_count": 54,
   "metadata": {},
   "outputs": [
    {
     "data": {
      "text/html": [
       "<div>\n",
       "<style scoped>\n",
       "    .dataframe tbody tr th:only-of-type {\n",
       "        vertical-align: middle;\n",
       "    }\n",
       "\n",
       "    .dataframe tbody tr th {\n",
       "        vertical-align: top;\n",
       "    }\n",
       "\n",
       "    .dataframe thead th {\n",
       "        text-align: right;\n",
       "    }\n",
       "</style>\n",
       "<table border=\"1\" class=\"dataframe\">\n",
       "  <thead>\n",
       "    <tr style=\"text-align: right;\">\n",
       "      <th></th>\n",
       "      <th>Per Capita Income Ranges</th>\n",
       "      <th>ZipClass</th>\n",
       "      <th>Distance</th>\n",
       "      <th>Time</th>\n",
       "    </tr>\n",
       "  </thead>\n",
       "  <tbody>\n",
       "    <tr>\n",
       "      <th>1</th>\n",
       "      <td>&lt;$20000</td>\n",
       "      <td>Rural</td>\n",
       "      <td>5.086127</td>\n",
       "      <td>5.554913</td>\n",
       "    </tr>\n",
       "    <tr>\n",
       "      <th>5</th>\n",
       "      <td>$20001-50000</td>\n",
       "      <td>Rural</td>\n",
       "      <td>5.573061</td>\n",
       "      <td>6.115102</td>\n",
       "    </tr>\n",
       "    <tr>\n",
       "      <th>9</th>\n",
       "      <td>$50001-100000</td>\n",
       "      <td>Rural</td>\n",
       "      <td>3.871622</td>\n",
       "      <td>4.336486</td>\n",
       "    </tr>\n",
       "    <tr>\n",
       "      <th>13</th>\n",
       "      <td>$100001-120000</td>\n",
       "      <td>Rural</td>\n",
       "      <td>9.800000</td>\n",
       "      <td>10.650000</td>\n",
       "    </tr>\n",
       "  </tbody>\n",
       "</table>\n",
       "</div>"
      ],
      "text/plain": [
       "   Per Capita Income Ranges ZipClass  Distance       Time\n",
       "1                   <$20000    Rural  5.086127   5.554913\n",
       "5              $20001-50000    Rural  5.573061   6.115102\n",
       "9             $50001-100000    Rural  3.871622   4.336486\n",
       "13           $100001-120000    Rural  9.800000  10.650000"
      ]
     },
     "execution_count": 54,
     "metadata": {},
     "output_type": "execute_result"
    }
   ],
   "source": [
    "#focus on rural zips\n",
    "IPC_zip_time_dist_mean_r = IPC_zip_time_dist_mean.loc[IPC_zip_time_dist_mean['ZipClass']=='Rural',:]\n",
    "IPC_zip_time_dist_mean_r"
   ]
  },
  {
   "cell_type": "code",
   "execution_count": 55,
   "metadata": {},
   "outputs": [
    {
     "data": {
      "text/html": [
       "<div>\n",
       "<style scoped>\n",
       "    .dataframe tbody tr th:only-of-type {\n",
       "        vertical-align: middle;\n",
       "    }\n",
       "\n",
       "    .dataframe tbody tr th {\n",
       "        vertical-align: top;\n",
       "    }\n",
       "\n",
       "    .dataframe thead th {\n",
       "        text-align: right;\n",
       "    }\n",
       "</style>\n",
       "<table border=\"1\" class=\"dataframe\">\n",
       "  <thead>\n",
       "    <tr style=\"text-align: right;\">\n",
       "      <th></th>\n",
       "      <th>Per Capita Income Ranges</th>\n",
       "      <th>ZipClass</th>\n",
       "      <th>Distance</th>\n",
       "      <th>Time</th>\n",
       "    </tr>\n",
       "  </thead>\n",
       "  <tbody>\n",
       "    <tr>\n",
       "      <th>2</th>\n",
       "      <td>&lt;$20000</td>\n",
       "      <td>Suburban</td>\n",
       "      <td>1.104000</td>\n",
       "      <td>1.420000</td>\n",
       "    </tr>\n",
       "    <tr>\n",
       "      <th>6</th>\n",
       "      <td>$20001-50000</td>\n",
       "      <td>Suburban</td>\n",
       "      <td>0.791045</td>\n",
       "      <td>1.012687</td>\n",
       "    </tr>\n",
       "    <tr>\n",
       "      <th>10</th>\n",
       "      <td>$50001-100000</td>\n",
       "      <td>Suburban</td>\n",
       "      <td>0.712245</td>\n",
       "      <td>0.959184</td>\n",
       "    </tr>\n",
       "    <tr>\n",
       "      <th>14</th>\n",
       "      <td>$100001-120000</td>\n",
       "      <td>Suburban</td>\n",
       "      <td>1.450000</td>\n",
       "      <td>1.800000</td>\n",
       "    </tr>\n",
       "  </tbody>\n",
       "</table>\n",
       "</div>"
      ],
      "text/plain": [
       "   Per Capita Income Ranges  ZipClass  Distance      Time\n",
       "2                   <$20000  Suburban  1.104000  1.420000\n",
       "6              $20001-50000  Suburban  0.791045  1.012687\n",
       "10            $50001-100000  Suburban  0.712245  0.959184\n",
       "14           $100001-120000  Suburban  1.450000  1.800000"
      ]
     },
     "execution_count": 55,
     "metadata": {},
     "output_type": "execute_result"
    }
   ],
   "source": [
    "#focus on suburban zips\n",
    "IPC_zip_time_dist_mean_s = IPC_zip_time_dist_mean.loc[IPC_zip_time_dist_mean['ZipClass']=='Suburban',:]\n",
    "IPC_zip_time_dist_mean_s"
   ]
  },
  {
   "cell_type": "code",
   "execution_count": 56,
   "metadata": {},
   "outputs": [
    {
     "data": {
      "text/html": [
       "<div>\n",
       "<style scoped>\n",
       "    .dataframe tbody tr th:only-of-type {\n",
       "        vertical-align: middle;\n",
       "    }\n",
       "\n",
       "    .dataframe tbody tr th {\n",
       "        vertical-align: top;\n",
       "    }\n",
       "\n",
       "    .dataframe thead th {\n",
       "        text-align: right;\n",
       "    }\n",
       "</style>\n",
       "<table border=\"1\" class=\"dataframe\">\n",
       "  <thead>\n",
       "    <tr style=\"text-align: right;\">\n",
       "      <th></th>\n",
       "      <th>Per Capita Income Ranges</th>\n",
       "      <th>ZipClass</th>\n",
       "      <th>Distance</th>\n",
       "      <th>Time</th>\n",
       "    </tr>\n",
       "  </thead>\n",
       "  <tbody>\n",
       "    <tr>\n",
       "      <th>3</th>\n",
       "      <td>&lt;$20000</td>\n",
       "      <td>Urban</td>\n",
       "      <td>0.531624</td>\n",
       "      <td>1.014530</td>\n",
       "    </tr>\n",
       "    <tr>\n",
       "      <th>7</th>\n",
       "      <td>$20001-50000</td>\n",
       "      <td>Urban</td>\n",
       "      <td>0.444101</td>\n",
       "      <td>0.867416</td>\n",
       "    </tr>\n",
       "    <tr>\n",
       "      <th>11</th>\n",
       "      <td>$50001-100000</td>\n",
       "      <td>Urban</td>\n",
       "      <td>0.461062</td>\n",
       "      <td>0.898230</td>\n",
       "    </tr>\n",
       "    <tr>\n",
       "      <th>15</th>\n",
       "      <td>$100001-120000</td>\n",
       "      <td>Urban</td>\n",
       "      <td>0.300000</td>\n",
       "      <td>0.600000</td>\n",
       "    </tr>\n",
       "  </tbody>\n",
       "</table>\n",
       "</div>"
      ],
      "text/plain": [
       "   Per Capita Income Ranges ZipClass  Distance      Time\n",
       "3                   <$20000    Urban  0.531624  1.014530\n",
       "7              $20001-50000    Urban  0.444101  0.867416\n",
       "11            $50001-100000    Urban  0.461062  0.898230\n",
       "15           $100001-120000    Urban  0.300000  0.600000"
      ]
     },
     "execution_count": 56,
     "metadata": {},
     "output_type": "execute_result"
    }
   ],
   "source": [
    "#focus on urban zips\n",
    "IPC_zip_time_dist_mean_u = IPC_zip_time_dist_mean.loc[IPC_zip_time_dist_mean['ZipClass']=='Urban',:]\n",
    "IPC_zip_time_dist_mean_u"
   ]
  },
  {
   "cell_type": "markdown",
   "metadata": {
    "slideshow": {
     "slide_type": "-"
    }
   },
   "source": [
    "# Next I created bins based on per capita income ranges to visualize if there was better or worse access to a dentist based on per capita income range or by zip class."
   ]
  },
  {
   "cell_type": "markdown",
   "metadata": {
    "slideshow": {
     "slide_type": "-"
    }
   },
   "source": [
    "# It appears the income per capita is a driver for better access to a dentist based on mileage."
   ]
  },
  {
   "cell_type": "code",
   "execution_count": 57,
   "metadata": {
    "slideshow": {
     "slide_type": "-"
    }
   },
   "outputs": [
    {
     "data": {
      "text/html": [
       "<div>\n",
       "<style scoped>\n",
       "    .dataframe tbody tr th:only-of-type {\n",
       "        vertical-align: middle;\n",
       "    }\n",
       "\n",
       "    .dataframe tbody tr th {\n",
       "        vertical-align: top;\n",
       "    }\n",
       "\n",
       "    .dataframe thead th {\n",
       "        text-align: right;\n",
       "    }\n",
       "</style>\n",
       "<table border=\"1\" class=\"dataframe\">\n",
       "  <thead>\n",
       "    <tr style=\"text-align: right;\">\n",
       "      <th></th>\n",
       "      <th>Per Capita Income Ranges</th>\n",
       "      <th>ZipClass</th>\n",
       "      <th>Distance</th>\n",
       "      <th>Time</th>\n",
       "    </tr>\n",
       "  </thead>\n",
       "  <tbody>\n",
       "    <tr>\n",
       "      <th>0</th>\n",
       "      <td>&lt;$20000</td>\n",
       "      <td>Frontier</td>\n",
       "      <td>22.880952</td>\n",
       "      <td>24.919048</td>\n",
       "    </tr>\n",
       "    <tr>\n",
       "      <th>4</th>\n",
       "      <td>$20001-50000</td>\n",
       "      <td>Frontier</td>\n",
       "      <td>16.803448</td>\n",
       "      <td>18.325000</td>\n",
       "    </tr>\n",
       "    <tr>\n",
       "      <th>8</th>\n",
       "      <td>$50001-100000</td>\n",
       "      <td>Frontier</td>\n",
       "      <td>8.450000</td>\n",
       "      <td>9.150000</td>\n",
       "    </tr>\n",
       "    <tr>\n",
       "      <th>12</th>\n",
       "      <td>$100001-120000</td>\n",
       "      <td>Frontier</td>\n",
       "      <td>11.300000</td>\n",
       "      <td>12.300000</td>\n",
       "    </tr>\n",
       "    <tr>\n",
       "      <th>1</th>\n",
       "      <td>&lt;$20000</td>\n",
       "      <td>Rural</td>\n",
       "      <td>5.086127</td>\n",
       "      <td>5.554913</td>\n",
       "    </tr>\n",
       "    <tr>\n",
       "      <th>5</th>\n",
       "      <td>$20001-50000</td>\n",
       "      <td>Rural</td>\n",
       "      <td>5.573061</td>\n",
       "      <td>6.115102</td>\n",
       "    </tr>\n",
       "    <tr>\n",
       "      <th>9</th>\n",
       "      <td>$50001-100000</td>\n",
       "      <td>Rural</td>\n",
       "      <td>3.871622</td>\n",
       "      <td>4.336486</td>\n",
       "    </tr>\n",
       "    <tr>\n",
       "      <th>13</th>\n",
       "      <td>$100001-120000</td>\n",
       "      <td>Rural</td>\n",
       "      <td>9.800000</td>\n",
       "      <td>10.650000</td>\n",
       "    </tr>\n",
       "    <tr>\n",
       "      <th>2</th>\n",
       "      <td>&lt;$20000</td>\n",
       "      <td>Suburban</td>\n",
       "      <td>1.104000</td>\n",
       "      <td>1.420000</td>\n",
       "    </tr>\n",
       "    <tr>\n",
       "      <th>6</th>\n",
       "      <td>$20001-50000</td>\n",
       "      <td>Suburban</td>\n",
       "      <td>0.791045</td>\n",
       "      <td>1.012687</td>\n",
       "    </tr>\n",
       "    <tr>\n",
       "      <th>10</th>\n",
       "      <td>$50001-100000</td>\n",
       "      <td>Suburban</td>\n",
       "      <td>0.712245</td>\n",
       "      <td>0.959184</td>\n",
       "    </tr>\n",
       "    <tr>\n",
       "      <th>14</th>\n",
       "      <td>$100001-120000</td>\n",
       "      <td>Suburban</td>\n",
       "      <td>1.450000</td>\n",
       "      <td>1.800000</td>\n",
       "    </tr>\n",
       "    <tr>\n",
       "      <th>3</th>\n",
       "      <td>&lt;$20000</td>\n",
       "      <td>Urban</td>\n",
       "      <td>0.531624</td>\n",
       "      <td>1.014530</td>\n",
       "    </tr>\n",
       "    <tr>\n",
       "      <th>7</th>\n",
       "      <td>$20001-50000</td>\n",
       "      <td>Urban</td>\n",
       "      <td>0.444101</td>\n",
       "      <td>0.867416</td>\n",
       "    </tr>\n",
       "    <tr>\n",
       "      <th>11</th>\n",
       "      <td>$50001-100000</td>\n",
       "      <td>Urban</td>\n",
       "      <td>0.461062</td>\n",
       "      <td>0.898230</td>\n",
       "    </tr>\n",
       "    <tr>\n",
       "      <th>15</th>\n",
       "      <td>$100001-120000</td>\n",
       "      <td>Urban</td>\n",
       "      <td>0.300000</td>\n",
       "      <td>0.600000</td>\n",
       "    </tr>\n",
       "  </tbody>\n",
       "</table>\n",
       "</div>"
      ],
      "text/plain": [
       "   Per Capita Income Ranges  ZipClass   Distance       Time\n",
       "0                   <$20000  Frontier  22.880952  24.919048\n",
       "4              $20001-50000  Frontier  16.803448  18.325000\n",
       "8             $50001-100000  Frontier   8.450000   9.150000\n",
       "12           $100001-120000  Frontier  11.300000  12.300000\n",
       "1                   <$20000     Rural   5.086127   5.554913\n",
       "5              $20001-50000     Rural   5.573061   6.115102\n",
       "9             $50001-100000     Rural   3.871622   4.336486\n",
       "13           $100001-120000     Rural   9.800000  10.650000\n",
       "2                   <$20000  Suburban   1.104000   1.420000\n",
       "6              $20001-50000  Suburban   0.791045   1.012687\n",
       "10            $50001-100000  Suburban   0.712245   0.959184\n",
       "14           $100001-120000  Suburban   1.450000   1.800000\n",
       "3                   <$20000     Urban   0.531624   1.014530\n",
       "7              $20001-50000     Urban   0.444101   0.867416\n",
       "11            $50001-100000     Urban   0.461062   0.898230\n",
       "15           $100001-120000     Urban   0.300000   0.600000"
      ]
     },
     "execution_count": 57,
     "metadata": {},
     "output_type": "execute_result"
    }
   ],
   "source": [
    "IPC_zip_time_dist_mean"
   ]
  },
  {
   "cell_type": "code",
   "execution_count": 58,
   "metadata": {
    "slideshow": {
     "slide_type": "-"
    }
   },
   "outputs": [
    {
     "data": {
      "text/plain": [
       "Text(0.5, 1.0, 'Avg Distance Per Capita Income Ranges')"
      ]
     },
     "execution_count": 58,
     "metadata": {},
     "output_type": "execute_result"
    },
    {
     "data": {
      "image/png": "[encoded data removed]",
      "text/plain": [
       "<Figure size 432x288 with 1 Axes>"
      ]
     },
     "metadata": {
      "needs_background": "light"
     },
     "output_type": "display_data"
    }
   ],
   "source": [
    "x_axis = IPC_zip_time_dist_mean['Per Capita Income Ranges']\n",
    "x_axis\n",
    "sp_data = IPC_zip_time_dist_mean['Distance']\n",
    "sp_data\n",
    "plt.scatter(x_axis, sp_data, marker=\"o\", facecolors=\"green\", edgecolors=\"black\",\n",
    "            alpha=0.75)\n",
    "plt.title('Avg Distance Per Capita Income Ranges')"
   ]
  },
  {
   "cell_type": "code",
   "execution_count": 59,
   "metadata": {},
   "outputs": [],
   "source": [
    "\n",
    "data = zip_time_dist_mean['Distance']\n",
    "x_axis = zip_time_dist_mean['ZipClass']"
   ]
  },
  {
   "cell_type": "code",
   "execution_count": 60,
   "metadata": {
    "slideshow": {
     "slide_type": "-"
    }
   },
   "outputs": [
    {
     "data": {
      "text/plain": [
       "Text(0.5, 1.0, 'Avg Distance Per Zip Class')"
      ]
     },
     "execution_count": 60,
     "metadata": {},
     "output_type": "execute_result"
    },
    {
     "data": {
      "image/png": "[encoded data removed]",
      "text/plain": [
       "<Figure size 432x288 with 1 Axes>"
      ]
     },
     "metadata": {
      "needs_background": "light"
     },
     "output_type": "display_data"
    }
   ],
   "source": [
    "# Create a bar chart based upon the above data\n",
    "plt.scatter(x_axis, data, color=\"g\", edgecolors=\"black\")\n",
    "plt.title('Avg Distance Per Zip Class')\n",
    "\n",
    "# plt.xlabel('Urban','Suburban','Rural','Frontier')"
   ]
  },
  {
   "cell_type": "code",
   "execution_count": 61,
   "metadata": {
    "slideshow": {
     "slide_type": "-"
    }
   },
   "outputs": [
    {
     "data": {
      "image/png": "[encoded data removed]",
      "text/plain": [
       "<Figure size 432x288 with 2 Axes>"
      ]
     },
     "metadata": {
      "needs_background": "light"
     },
     "output_type": "display_data"
    }
   ],
   "source": [
    "\n",
    "# Store all Relevant Percent Changes into a Tuple\n",
    "\n",
    "\n",
    "\n",
    "fig, ax = plt.subplots(2,1, sharex=True)\n",
    "fig.suptitle('Zip Classes')\n",
    "#urban per capita data\n",
    "data = IPC_zip_time_dist_mean_u['Distance']\n",
    "x_axis = np.arange(len(data))\n",
    "\n",
    "#rural per capita data\n",
    "data1 = IPC_zip_time_dist_mean_r['Distance']\n",
    "x_axis1 = np.arange(len(data))\n",
    "\n",
    "#suburban per capita data\n",
    "data2 = IPC_zip_time_dist_mean_s['Distance']\n",
    "x_axis2 = np.arange(len(data))\n",
    "\n",
    "#frontier per capita data\n",
    "data3 = IPC_zip_time_dist_mean_f['Distance']\n",
    "x_axis3 = np.arange(len(data))\n",
    "\n",
    "width = 8\n",
    "#urban zips per capita ranges\n",
    "ax[0].bar( x_axis, data, color='green', align='edge', width=0.3)\n",
    "\n",
    "#suburban zips per capita ranges\n",
    "ax[1].bar( x_axis1, data1, color='blue', align='edge', width=0.3)\n",
    "\n",
    "# #rural zips per capita ranges\n",
    "# ax[2].bar( x_axis2, data2, color='red', align='edge', width=0.3)\n",
    "\n",
    "# #frontier zips per capita ranges\n",
    "# ax[3].bar( x_axis3, data3, color='red', align='edge', width=0.3)\n",
    "\n",
    "# Orient widths. Add labels, tick marks, etc. \n",
    "ax[0].set_ylabel('Distance (miles)')\n",
    "ax[0].set_title('Urban Zips Per Capita Income Ranges')\n",
    "ax[0].set_xticks(x_axis)\n",
    "ax[0].set_xticklabels(IPC_zip_time_dist_mean_u['Per Capita Income Ranges'])\n",
    "ax[0].set_autoscaley_on(True)\n",
    "ax[0].grid(True)\n",
    "\n",
    "ax[1].set_ylabel('Distance (miles)')\n",
    "ax[1].set_title('Rural Zips Per Capita Income Ranges')\n",
    "ax[1].set_xticks(x_axis)\n",
    "ax[1].set_xticklabels(IPC_zip_time_dist_mean_r['Per Capita Income Ranges'])\n",
    "ax[1].set_autoscaley_on(True)\n",
    "ax[1].grid(True)\n",
    "# ax[0].legend(handles=UrbanZipLegend, loc='best')\n",
    "# ax[0].set_ylim([150,100])\n",
    "# axes.set_ylim([ymin,ymax])\n",
    "\n"
   ]
  },
  {
   "cell_type": "code",
   "execution_count": 63,
   "metadata": {
    "slideshow": {
     "slide_type": "-"
    }
   },
   "outputs": [
    {
     "data": {
      "image/png": "[encoded data removed]",
      "text/plain": [
       "<Figure size 432x288 with 2 Axes>"
      ]
     },
     "metadata": {
      "needs_background": "light"
     },
     "output_type": "display_data"
    }
   ],
   "source": [
    "# Store all Relevant Percent Changes into a Tuple\n",
    "\n",
    "\n",
    "\n",
    "fig, ax = plt.subplots(2,1, sharex=True)\n",
    "fig.suptitle('Zip Classes')\n",
    "\n",
    "#suburban per capita data\n",
    "data2 = IPC_zip_time_dist_mean_s['Distance']\n",
    "x_axis2 = np.arange(len(data))\n",
    "\n",
    "#frontier per capita data\n",
    "data3 = IPC_zip_time_dist_mean_f['Distance']\n",
    "x_axis3 = np.arange(len(data))\n",
    "\n",
    "width = 8\n",
    "#urban zips per capita ranges\n",
    "ax[0].bar( x_axis2, data2, color='purple', align='edge', width=0.3)\n",
    "\n",
    "#suburban zips per capita ranges\n",
    "ax[1].bar( x_axis3, data3, color='orange', align='edge', width=0.3)\n",
    "\n",
    "ax[0].set_ylabel('Distance (miles)')\n",
    "ax[0].set_title('Suburban Zips Per Capita Income Ranges')\n",
    "ax[0].set_xticks(x_axis)\n",
    "ax[0].set_xticklabels(IPC_zip_time_dist_mean_s['Per Capita Income Ranges'])\n",
    "ax[0].set_autoscaley_on(True)\n",
    "ax[0].grid(True)\n",
    "\n",
    "ax[1].set_ylabel('Distance (miles)')\n",
    "ax[1].set_title('Frontier Zips Per Capita Income Ranges')\n",
    "ax[1].set_xticks(x_axis)\n",
    "ax[1].set_xticklabels(IPC_zip_time_dist_mean_f['Per Capita Income Ranges'])\n",
    "ax[1].set_autoscaley_on(True)\n",
    "ax[1].grid(True)\n"
   ]
  },
  {
   "cell_type": "markdown",
   "metadata": {
    "slideshow": {
     "slide_type": "-"
    }
   },
   "source": [
    "# In conclusion I assumed the poverty rates would be a driver for better access to a dentist however there seems to be better access to a dentist for those are in a urban zip code versus a frontier zip code."
   ]
  },
  {
   "cell_type": "code",
   "execution_count": null,
   "metadata": {},
   "outputs": [],
   "source": []
  }
 ],
 "metadata": {
  "celltoolbar": "Slideshow",
  "kernelspec": {
   "display_name": "Python 3",
   "language": "python",
   "name": "python3"
  },
  "language_info": {
   "codemirror_mode": {
    "name": "ipython",
    "version": 3
   },
   "file_extension": ".py",
   "mimetype": "text/x-python",
   "name": "python",
   "nbconvert_exporter": "python",
   "pygments_lexer": "ipython3",
   "version": "3.7.1"
  }
 },
 "nbformat": 4,
 "nbformat_minor": 2
}
